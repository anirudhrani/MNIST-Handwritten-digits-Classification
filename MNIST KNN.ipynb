{
 "cells": [
  {
   "cell_type": "markdown",
   "metadata": {},
   "source": [
    "# Import"
   ]
  },
  {
   "cell_type": "code",
   "execution_count": 1,
   "metadata": {},
   "outputs": [
    {
     "name": "stdout",
     "output_type": "stream",
     "text": [
      "WARNING:tensorflow:From E:\\anaconda\\lib\\site-packages\\tensorflow\\python\\compat\\v2_compat.py:96: disable_resource_variables (from tensorflow.python.ops.variable_scope) is deprecated and will be removed in a future version.\n",
      "Instructions for updating:\n",
      "non-resource variables are not supported in the long term\n"
     ]
    }
   ],
   "source": [
    "import input_data\n",
    "import tensorflow.compat.v1 as tf  \n",
    "tf.disable_v2_behavior()\n",
    "import numpy as np"
   ]
  },
  {
   "cell_type": "markdown",
   "metadata": {},
   "source": [
    "# Data Model"
   ]
  },
  {
   "cell_type": "code",
   "execution_count": 2,
   "metadata": {},
   "outputs": [
    {
     "name": "stdout",
     "output_type": "stream",
     "text": [
      "WARNING:tensorflow:From <ipython-input-2-f8eede2b68fe>:2: read_data_sets (from input_data) is deprecated and will be removed in a future version.\n",
      "Instructions for updating:\n",
      "Please use alternatives such as: tensorflow_datasets.load('mnist')\n",
      "WARNING:tensorflow:From E:\\tf_packt\\cf_and_gd\\input_data.py:284: _maybe_download (from input_data) is deprecated and will be removed in a future version.\n",
      "Instructions for updating:\n",
      "Please write your own downloading logic.\n",
      "WARNING:tensorflow:From E:\\tf_packt\\cf_and_gd\\input_data.py:286: _extract_images (from input_data) is deprecated and will be removed in a future version.\n",
      "Instructions for updating:\n",
      "Please use tf.data to implement this functionality.\n",
      "Extracting MNIST_data/train-images-idx3-ubyte.gz\n",
      "WARNING:tensorflow:From E:\\tf_packt\\cf_and_gd\\input_data.py:291: _extract_labels (from input_data) is deprecated and will be removed in a future version.\n",
      "Instructions for updating:\n",
      "Please use tf.data to implement this functionality.\n",
      "Extracting MNIST_data/train-labels-idx1-ubyte.gz\n",
      "Extracting MNIST_data/t10k-images-idx3-ubyte.gz\n",
      "Extracting MNIST_data/t10k-labels-idx1-ubyte.gz\n",
      "WARNING:tensorflow:From E:\\tf_packt\\cf_and_gd\\input_data.py:315: _DataSet.__init__ (from input_data) is deprecated and will be removed in a future version.\n",
      "Instructions for updating:\n",
      "Please use alternatives such as official/mnist/_DataSet.py from tensorflow/models.\n"
     ]
    }
   ],
   "source": [
    "# read dataset\n",
    "mnist= input_data.read_data_sets(\"MNIST_data/\",one_hot=False)\n",
    "\n",
    "# Selecting the first 100 observations from dataset into 2 lists. \n",
    "# First list is for pixels and second for real values.\n",
    "train_pixels, train_list_values= mnist.train.next_batch(100) "
   ]
  },
  {
   "cell_type": "code",
   "execution_count": 3,
   "metadata": {},
   "outputs": [],
   "source": [
    "#test\n",
    "test_pixels, test_list_values= mnist.test.next_batch(10)"
   ]
  },
  {
   "cell_type": "code",
   "execution_count": 4,
   "metadata": {},
   "outputs": [],
   "source": [
    "# define the tensors that will be used to construct the classifier\n",
    "train_pixel_tensor= tf.placeholder('float', [None, 784])\n",
    "test_pixel_tensor= tf.placeholder('float', [784])"
   ]
  },
  {
   "cell_type": "markdown",
   "metadata": {},
   "source": [
    "## Cost Function"
   ]
  },
  {
   "cell_type": "code",
   "execution_count": 5,
   "metadata": {},
   "outputs": [],
   "source": [
    "#this is nothing but Euclidean distance\n",
    "distance= tf.reduce_sum(tf.abs(tf.add(train_pixel_tensor, tf.negative(test_pixel_tensor))),reduction_indices=1)\n",
    "\n",
    "#minimum distance in rows\n",
    "pred= tf.arg_min(distance, dimension=0)"
   ]
  },
  {
   "cell_type": "markdown",
   "metadata": {},
   "source": [
    "#### Understanding the Cost Function\n",
    "\n",
    "tf.negative(test_pixel_tensor) ---> Negating yi.\n",
    "\n",
    "tf.add(train_pixel_tensor, tf.negative(test_pixel_tensor ---> Add (Xi-yi).\n",
    "\n",
    "tf.abs(tf.add(train_pixel_tensor, tf.negative(test_pixel_tensor) ---> Finding the absolute value of the above sum.\n",
    "\n",
    "tf.reduce_sum(tf.abs(tf.add(train_pixel_tensor, tf.negative(test_pixel_tensor))),reduction_indices=1) ---> Computes the sum of elements across dimensions of a tensor.\n",
    "\n",
    "reduction_indices=1 ---> Column"
   ]
  },
  {
   "cell_type": "markdown",
   "metadata": {},
   "source": [
    "# Testing the Algorithm"
   ]
  },
  {
   "cell_type": "code",
   "execution_count": 6,
   "metadata": {},
   "outputs": [],
   "source": [
    "accuracy= 0\n",
    "init= tf.global_variables_initializer()"
   ]
  },
  {
   "cell_type": "code",
   "execution_count": 7,
   "metadata": {},
   "outputs": [
    {
     "name": "stdout",
     "output_type": "stream",
     "text": [
      "Test N 0 Predicted Class: 0 True Class:  0\n",
      "Test N 1 Predicted Class: 0 True Class:  0\n",
      "Test N 2 Predicted Class: 0 True Class:  0\n",
      "Test N 3 Predicted Class: 0 True Class:  0\n",
      "Test N 4 Predicted Class: 0 True Class:  0\n",
      "Test N 5 Predicted Class: 0 True Class:  0\n",
      "Test N 6 Predicted Class: 0 True Class:  0\n",
      "Test N 7 Predicted Class: 0 True Class:  0\n",
      "Test N 8 Predicted Class: 0 True Class:  0\n",
      "Test N 9 Predicted Class: 0 True Class:  0\n",
      "Accuracy:- 0.9999999999999999\n"
     ]
    }
   ],
   "source": [
    "with tf.Session() as sess:\n",
    "    sess.run(init)\n",
    "    for i in range(len(test_list_values)):\n",
    "        nn_index= sess.run(pred, feed_dict={train_pixel_tensor:train_pixels, test_pixel_tensor:test_pixels[i, :]})\n",
    "        print('Test N', i, 'Predicted Class:', np.argmax(train_list_values[nn_index]),\n",
    "             'True Class: ', np.argmax(test_list_values[i]))\n",
    "        if(np.argmax(train_list_values[nn_index])== np.argmax(test_list_values[i])):\n",
    "            accuracy +=1./len(test_pixels)\n",
    "    print('Accuracy:-', accuracy)"
   ]
  }
 ],
 "metadata": {
  "kernelspec": {
   "display_name": "Python 3",
   "language": "python",
   "name": "python3"
  },
  "language_info": {
   "codemirror_mode": {
    "name": "ipython",
    "version": 3
   },
   "file_extension": ".py",
   "mimetype": "text/x-python",
   "name": "python",
   "nbconvert_exporter": "python",
   "pygments_lexer": "ipython3",
   "version": "3.7.6"
  }
 },
 "nbformat": 4,
 "nbformat_minor": 4
}
